{
 "cells": [
  {
   "cell_type": "code",
   "execution_count": null,
   "metadata": {},
   "outputs": [],
   "source": [
    "import pandas as pd\n",
    "import json\n",
    "\n",
    "def update_link(link, size):\n",
    "    link_split = link.split(\"/\")\n",
    "    link_split[6] = f\"!{size[0]},{size[1]}\"\n",
    "\n",
    "    return \"/\".join(link_split)\n",
    "\n",
    "prefered_size = (1000,1000)\n",
    "f_api_output = \"14517_100.json\"\n",
    "\n",
    "# Open the JSON file for reading\n",
    "with open(f'api_output/{f_api_output}', 'r') as json_file:\n",
    "    # Load the JSON data into a dictionary\n",
    "    data_dict = json.load(json_file)\n",
    "\n",
    "details = []\n",
    "for item in data_dict['response']['docs']:\n",
    "    if \"iiif-thumbnail\" in item.keys():\n",
    "        details.append({\n",
    "            'link': update_link(item[\"iiif-thumbnail\"], prefered_size),\n",
    "            'description': item[\"presentation_text\"]\n",
    "        })\n",
    "\n",
    "pd.DataFrame(details).to_json(f\"images/{f_api_output}\", orient='records', indent=4, default_handler=str)"
   ]
  }
 ],
 "metadata": {
  "kernelspec": {
   "display_name": "gov_hack",
   "language": "python",
   "name": "python3"
  },
  "language_info": {
   "codemirror_mode": {
    "name": "ipython",
    "version": 3
   },
   "file_extension": ".py",
   "mimetype": "text/x-python",
   "name": "python",
   "nbconvert_exporter": "python",
   "pygments_lexer": "ipython3",
   "version": "3.10.12"
  }
 },
 "nbformat": 4,
 "nbformat_minor": 2
}
