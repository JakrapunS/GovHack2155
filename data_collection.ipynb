{
 "cells": [
  {
   "cell_type": "code",
   "execution_count": null,
   "metadata": {},
   "outputs": [],
   "source": [
    "# sample on how to use\n",
    "\n",
    "from data_collection import * \n",
    "\n",
    "\n",
    "series_ids = [\n",
    "    10742,\n",
    "    12800,\n",
    "    12903,\n",
    "    1396,\n",
    "    14517,\n",
    "    10516,\n",
    "    17684,\n",
    "    8357,\n",
    "    10516,\n",
    "    14517\n",
    "]\n",
    "\n",
    "make_data(14517)"
   ]
  }
 ],
 "metadata": {
  "kernelspec": {
   "display_name": "gov_hack",
   "language": "python",
   "name": "python3"
  },
  "language_info": {
   "codemirror_mode": {
    "name": "ipython",
    "version": 3
   },
   "file_extension": ".py",
   "mimetype": "text/x-python",
   "name": "python",
   "nbconvert_exporter": "python",
   "pygments_lexer": "ipython3",
   "version": "3.10.12"
  }
 },
 "nbformat": 4,
 "nbformat_minor": 2
}
