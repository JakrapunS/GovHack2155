{
 "cells": [
  {
   "cell_type": "code",
   "execution_count": null,
   "metadata": {},
   "outputs": [],
   "source": [
    "import requests\n",
    "import pandas as pd\n",
    "import json\n",
    "\n",
    "\n",
    "def prov_interface(series_id, rows=100):\n",
    "    \"\"\"\n",
    "    \n",
    "    \"\"\"\n",
    "\n",
    "    url = f'https://api.prov.vic.gov.au/search/query?rows={rows}&sort=Series_title%20asc&wt=json&q=(series_id%3A({series_id}))%20AND%20((record_form%3A%22Photograph%20or%20Image%22))'\n",
    "    try:\n",
    "        response = requests.get(url)\n",
    "        response.raise_for_status()  # Raise an exception for any HTTP error status\n",
    "\n",
    "    except requests.exceptions.RequestException as e:\n",
    "        print(\"Error fetching URL:\", e)\n",
    "\n",
    "    # slight error handling\n",
    "    d = json.loads(response.text)\n",
    "\n",
    "    if d['response']['numFound'] == 0:\n",
    "        return None\n",
    "\n",
    "    else: \n",
    "        return d\n",
    "\n",
    "def update_link(link, size):\n",
    "    link_split = link.split(\"/\")\n",
    "    link_split[6] = f\"!{size[0]},{size[1]}\"\n",
    "\n",
    "    return \"/\".join(link_split)\n",
    "\n",
    "def make_data(series_id, rows=100, pref_size=(500,500)):\n",
    "\n",
    "    data_dict = prov_interface(series_id)\n",
    "    if data_dict is None:\n",
    "        return None\n",
    "        \n",
    "    details = []\n",
    "    for item in data_dict['response']['docs']:\n",
    "        if \"iiif-thumbnail\" in item.keys():\n",
    "            details.append({\n",
    "                'link': update_link(item[\"iiif-thumbnail\"], prefered_size),\n",
    "                'description': item[\"presentation_text\"]\n",
    "            })\n",
    "\n",
    "    pd.DataFrame(details).to_json(f\"images/{f_out}\", orient='records', indent=4, default_handler=str)"
   ]
  },
  {
   "cell_type": "code",
   "execution_count": null,
   "metadata": {},
   "outputs": [],
   "source": [
    "ds = prov_interface(1234)\n",
    "ds\n"
   ]
  }
 ],
 "metadata": {
  "kernelspec": {
   "display_name": "gov_hack",
   "language": "python",
   "name": "python3"
  },
  "language_info": {
   "codemirror_mode": {
    "name": "ipython",
    "version": 3
   },
   "file_extension": ".py",
   "mimetype": "text/x-python",
   "name": "python",
   "nbconvert_exporter": "python",
   "pygments_lexer": "ipython3",
   "version": "3.10.12"
  }
 },
 "nbformat": 4,
 "nbformat_minor": 2
}
